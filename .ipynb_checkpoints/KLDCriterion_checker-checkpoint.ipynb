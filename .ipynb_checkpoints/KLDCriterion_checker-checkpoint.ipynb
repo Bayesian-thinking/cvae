{
 "cells": [
  {
   "cell_type": "markdown",
   "metadata": {},
   "source": [
    "# Create General KLDCriterion"
   ]
  },
  {
   "cell_type": "markdown",
   "metadata": {},
   "source": [
    "## Verify forward pass"
   ]
  },
  {
   "cell_type": "code",
   "execution_count": 1,
   "metadata": {
    "collapsed": false,
    "scrolled": true
   },
   "outputs": [],
   "source": [
    "require 'BKLDCriterion'\n",
    "require 'KLDCriterion'\n",
    "bkld = nn.BKLDCriterion()\n",
    "kld = nn.KLDCriterion()"
   ]
  },
  {
   "cell_type": "code",
   "execution_count": 2,
   "metadata": {
    "collapsed": true
   },
   "outputs": [],
   "source": [
    "mu = torch.randn(3,4)\n",
    "lv = torch.randn(3,4):pow(2):log()\n",
    "pmu = torch.zeros(3,4)\n",
    "plv = torch.zeros(3,4)"
   ]
  },
  {
   "cell_type": "code",
   "execution_count": 3,
   "metadata": {
    "collapsed": false
   },
   "outputs": [
    {
     "data": {
      "text/plain": [
       "10.982358832999\t\n",
       "10.982358832999\t\n"
      ]
     },
     "execution_count": 3,
     "metadata": {},
     "output_type": "execute_result"
    }
   ],
   "source": [
    "print(bkld:forward(mu, lv))\n",
    "print(kld:forward({pmu, plv}, {mu, lv})) -- make sure you use the right one as \"target\"!"
   ]
  },
  {
   "cell_type": "markdown",
   "metadata": {},
   "source": [
    "## Verify backward pass"
   ]
  },
  {
   "cell_type": "code",
   "execution_count": 4,
   "metadata": {
    "collapsed": false
   },
   "outputs": [],
   "source": [
    "mu = torch.randn(3,4)\n",
    "lv = torch.randn(3,4):pow(2):log()\n",
    "pmu = torch.randn(3,4)\n",
    "plv = torch.randn(3,4):pow(2):log()"
   ]
  },
  {
   "cell_type": "code",
   "execution_count": 5,
   "metadata": {
    "collapsed": true
   },
   "outputs": [],
   "source": [
    "dpmu, dplv, dmu, dlv = unpack(kld:backward({pmu, plv}, {mu, lv}))"
   ]
  },
  {
   "cell_type": "code",
   "execution_count": 6,
   "metadata": {
    "collapsed": true
   },
   "outputs": [],
   "source": [
    "h = 1e-5"
   ]
  },
  {
   "cell_type": "code",
   "execution_count": 7,
   "metadata": {
    "collapsed": false
   },
   "outputs": [
    {
     "data": {
      "text/plain": [
       "-4.8075159519989e-08\t\n",
       "-3.9645419003254e-08\t\n",
       "-3.7435487487691e-08\t\n",
       "-3.3182473102578e-08\t\n",
       "-3.0266050998762e-08\t\n",
       "6.8491714522168e-09\t\n",
       "4.4403758781009e-08\t\n",
       "-2.1189407561906e-08\t\n",
       "1.5683021103996e-08\t\n",
       "-1.1057379567525e-08\t\n",
       "2.0470082517932e-08\t\n",
       "1.1078324479996e-08\t\n"
      ]
     },
     "execution_count": 7,
     "metadata": {},
     "output_type": "execute_result"
    }
   ],
   "source": [
    "for i = 1,mu:size(1) do\n",
    "    for j = 1,mu:size(2) do\n",
    "        mu[{i, j}] = mu[{i, j}] + h\n",
    "        fph = kld:forward({pmu, plv}, {mu, lv})\n",
    "        mu[{i, j}] = mu[{i, j}] - h - h\n",
    "        fmp = kld:forward({pmu, plv}, {mu, lv})\n",
    "        mu[{i, j}] = mu[{i, j}] + h\n",
    "        print((fph - fmp)/2/h - dmu[{i, j}])\n",
    "    end\n",
    "end"
   ]
  },
  {
   "cell_type": "code",
   "execution_count": 8,
   "metadata": {
    "collapsed": false
   },
   "outputs": [
    {
     "data": {
      "text/plain": [
       "6.0015261510449e-09\t\n",
       "3.7806444641575e-09\t\n",
       "1.1994583715147e-08\t\n",
       "-1.7050326817092e-08\t\n",
       "3.8166824367636e-08\t\n",
       "-1.3593235426157e-08\t\n",
       "1.1548187864308e-08\t\n",
       "2.54751284956e-07\t\n",
       "-3.1273485467942e-09\t\n",
       "2.5779371637391e-08\t\n",
       "-7.1380505339835e-08\t\n",
       "1.934774405965e-08\t\n"
      ]
     },
     "execution_count": 8,
     "metadata": {},
     "output_type": "execute_result"
    }
   ],
   "source": [
    "for i = 1,lv:size(1) do\n",
    "    for j = 1,lv:size(2) do\n",
    "        lv[{i, j}] = lv[{i, j}] + h\n",
    "        fph = kld:forward({pmu, plv}, {mu, lv})\n",
    "        lv[{i, j}] = lv[{i, j}] - h - h\n",
    "        fmp = kld:forward({pmu, plv}, {mu, lv})\n",
    "        lv[{i, j}] = lv[{i, j}] + h\n",
    "        print((fph - fmp)/2/h - dlv[{i, j}])\n",
    "    end\n",
    "end"
   ]
  },
  {
   "cell_type": "code",
   "execution_count": 9,
   "metadata": {
    "collapsed": false
   },
   "outputs": [
    {
     "data": {
      "text/plain": [
       "4.8075159519989e-08\t\n",
       "3.9645419003254e-08\t\n",
       "3.7435487487691e-08\t\n",
       "3.3182473102578e-08\t\n",
       "3.0266050998762e-08\t\n",
       "-6.8491714522168e-09\t\n",
       "-4.4403758781009e-08\t\n",
       "2.1189407561906e-08\t\n",
       "-1.5683021103996e-08\t\n",
       "1.1057379567525e-08\t\n",
       "-2.0470082517932e-08\t\n",
       "-1.1078324479996e-08\t\n"
      ]
     },
     "execution_count": 9,
     "metadata": {},
     "output_type": "execute_result"
    }
   ],
   "source": [
    "for i = 1,pmu:size(1) do\n",
    "    for j = 1,pmu:size(2) do\n",
    "        pmu[{i, j}] = pmu[{i, j}] + h\n",
    "        fph = kld:forward({pmu, plv}, {mu, lv})\n",
    "        pmu[{i, j}] = pmu[{i, j}] - h - h\n",
    "        fmp = kld:forward({pmu, plv}, {mu, lv})\n",
    "        pmu[{i, j}] = pmu[{i, j}] + h\n",
    "        print((fph - fmp)/2/h - dpmu[{i, j}])\n",
    "    end\n",
    "end"
   ]
  },
  {
   "cell_type": "code",
   "execution_count": 10,
   "metadata": {
    "collapsed": false
   },
   "outputs": [
    {
     "data": {
      "text/plain": [
       "2.0744828077568e-08\t\n",
       "2.1236241598555e-08\t\n",
       "1.8659129796816e-09\t\n",
       "4.1080057772147e-08\t\n",
       "3.6271748271588e-08\t\n",
       "1.0632842828429e-08\t\n",
       "-1.0203965977729e-08\t\n",
       "2.0403058442753e-07\t\n",
       "3.047924757027e-08\t\n",
       "-6.4392204568442e-08\t\n",
       "-2.4210677906922e-09\t\n",
       "-2.1025407137554e-08\t\n"
      ]
     },
     "execution_count": 10,
     "metadata": {},
     "output_type": "execute_result"
    }
   ],
   "source": [
    "for i = 1,plv:size(1) do\n",
    "    for j = 1,plv:size(2) do\n",
    "        plv[{i, j}] = plv[{i, j}] + h\n",
    "        fph = kld:forward({pmu, plv}, {mu, lv})\n",
    "        plv[{i, j}] = plv[{i, j}] - h - h\n",
    "        fmp = kld:forward({pmu, plv}, {mu, lv})\n",
    "        plv[{i, j}] = plv[{i, j}] + h\n",
    "        print((fph - fmp)/2/h - dplv[{i, j}])\n",
    "    end\n",
    "end"
   ]
  },
  {
   "cell_type": "markdown",
   "metadata": {},
   "source": [
    "# Basic matrix stuff"
   ]
  },
  {
   "cell_type": "code",
   "execution_count": null,
   "metadata": {
    "collapsed": true
   },
   "outputs": [],
   "source": [
    "-- check my implementation is correct\n",
    "-- create mu's\n",
    "mu1 = torch.randn(3,1)\n",
    "mu2 = torch.randn(3,1)"
   ]
  },
  {
   "cell_type": "code",
   "execution_count": null,
   "metadata": {
    "collapsed": false
   },
   "outputs": [],
   "source": [
    "-- create sigma\n",
    "sig = torch.diag(torch.randn(3):pow(2))\n",
    "sig_lin = torch.diag(sig):reshape(3,1)"
   ]
  },
  {
   "cell_type": "code",
   "execution_count": null,
   "metadata": {
    "collapsed": false
   },
   "outputs": [],
   "source": [
    "-- first approach\n",
    "(mu1 - mu2):t() * (torch.inverse(sig)) * (mu1 - mu2)"
   ]
  },
  {
   "cell_type": "code",
   "execution_count": null,
   "metadata": {
    "collapsed": false,
    "scrolled": true
   },
   "outputs": [],
   "source": [
    "-- second approach\n",
    "torch.Tensor(1):fill((mu1 - mu2):pow(2):cdiv(sig_lin):sum())"
   ]
  },
  {
   "cell_type": "markdown",
   "metadata": {},
   "source": [
    "# Test inplace"
   ]
  },
  {
   "cell_type": "code",
   "execution_count": null,
   "metadata": {
    "collapsed": true
   },
   "outputs": [],
   "source": [
    "x = torch.Tensor(1):fill(3)"
   ]
  },
  {
   "cell_type": "code",
   "execution_count": null,
   "metadata": {
    "collapsed": false
   },
   "outputs": [],
   "source": [
    "x:add(3):add(x)"
   ]
  }
 ],
 "metadata": {
  "kernelspec": {
   "display_name": "iTorch",
   "language": "lua",
   "name": "itorch"
  },
  "language_info": {
   "name": "lua",
   "version": "5.1"
  }
 },
 "nbformat": 4,
 "nbformat_minor": 0
}
