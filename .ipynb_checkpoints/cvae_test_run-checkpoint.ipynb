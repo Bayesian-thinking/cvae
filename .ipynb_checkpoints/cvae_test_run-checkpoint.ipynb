{
 "cells": [
  {
   "cell_type": "code",
   "execution_count": 25,
   "metadata": {
    "collapsed": false
   },
   "outputs": [],
   "source": [
    "require 'torch'\n",
    "require 'nn'\n",
    "require 'nngraph'\n",
    "require 'load'\n",
    "CVAE = require 'CVAE'\n",
    "require 'KLDCriterion'\n",
    "require 'Sampler'"
   ]
  },
  {
   "cell_type": "code",
   "execution_count": 26,
   "metadata": {
    "collapsed": true
   },
   "outputs": [],
   "source": [
    "kld = nn.KLDCriterion()\n",
    "bce = nn.BCECriterion()\n",
    "bce.sizeAverage = false"
   ]
  },
  {
   "cell_type": "code",
   "execution_count": 27,
   "metadata": {
    "collapsed": true
   },
   "outputs": [],
   "source": [
    "data = loadmnist()\n",
    "train = data.train"
   ]
  },
  {
   "cell_type": "code",
   "execution_count": 28,
   "metadata": {
    "collapsed": true
   },
   "outputs": [],
   "source": [
    "batch_size = 3\n",
    "indices = torch.randperm(train:size(1)):long():split(batch_size)"
   ]
  },
  {
   "cell_type": "code",
   "execution_count": null,
   "metadata": {
    "collapsed": false
   },
   "outputs": [],
   "source": [
    "xs = 784\n",
    "ys = 784\n",
    "zs = 2\n",
    "hs = 400\n",
    "encoder = CVAE.create_encoder_network(xs, ys, zs, hs)\n",
    "prior = CVAE.create_prior_network(xs, zs, hs)\n",
    "decoder = CVAE.create_decoder_network(xs, ys, zs, hs)\n",
    "sampler = nn.Sampler()"
   ]
  },
  {
   "cell_type": "markdown",
   "metadata": {},
   "source": [
    "# Manual forwarding"
   ]
  },
  {
   "cell_type": "code",
   "execution_count": null,
   "metadata": {
    "collapsed": false
   },
   "outputs": [],
   "source": [
    "minix = train:index(1, indices[1])\n",
    "miniy = train:index(1, indices[1])\n",
    "-- mask first quarter of x\n",
    "minix[{{},{1,392}}] = 0."
   ]
  },
  {
   "cell_type": "code",
   "execution_count": null,
   "metadata": {
    "collapsed": false,
    "scrolled": true
   },
   "outputs": [],
   "source": [
    "code_blueprint = encoder:forward({minix, miniy})\n",
    "prior_code_blueprint = prior:forward(minix)\n",
    "code = sampler:forward(code_blueprint)\n",
    "recon = decoder:forward({minix, code})"
   ]
  },
  {
   "cell_type": "markdown",
   "metadata": {},
   "source": [
    "# Constructing a graph"
   ]
  },
  {
   "cell_type": "code",
   "execution_count": null,
   "metadata": {
    "collapsed": false
   },
   "outputs": [],
   "source": [
    "x_input = nn.Identity()()\n",
    "y_input = nn.Identity()()\n",
    "mu, logv = encoder({x_input, y_input}):split(2)\n",
    "pmu, plogv = prior(x_input):split(2)\n",
    "code = sampler({mu, logv})\n",
    "recon = decoder({x_input, code})\n",
    "model = nn.gModule({x_input, y_input}, {recon, mu, logv, pmu, plogv})"
   ]
  },
  {
   "cell_type": "code",
   "execution_count": null,
   "metadata": {
    "collapsed": false
   },
   "outputs": [],
   "source": [
    "recon, mu, logv, pmu, plogv = unpack(model:forward({minix, miniy}))"
   ]
  },
  {
   "cell_type": "code",
   "execution_count": null,
   "metadata": {
    "collapsed": false
   },
   "outputs": [],
   "source": [
    "bce:forward(recon, miniy)"
   ]
  },
  {
   "cell_type": "code",
   "execution_count": null,
   "metadata": {
    "collapsed": false
   },
   "outputs": [],
   "source": [
    "kld:forward({pmu, plogv}, {mu, logv})"
   ]
  },
  {
   "cell_type": "code",
   "execution_count": null,
   "metadata": {
    "collapsed": true
   },
   "outputs": [],
   "source": [
    "drecon = bce:backward(recon, miniy)\n",
    "dpmu, dplogv, dmu, dlogv = unpack(kld:backward({pmu, plogv}, {mu, logv}))"
   ]
  },
  {
   "cell_type": "code",
   "execution_count": null,
   "metadata": {
    "collapsed": true
   },
   "outputs": [],
   "source": [
    "error_grads = {drecon, dmu, dlogv, dpmu, dplogv}"
   ]
  },
  {
   "cell_type": "code",
   "execution_count": null,
   "metadata": {
    "collapsed": true
   },
   "outputs": [],
   "source": [
    "model:zeroGradParameters()\n",
    "model:backward({minix, miniy}, error_grads)"
   ]
  },
  {
   "cell_type": "code",
   "execution_count": null,
   "metadata": {
    "collapsed": true
   },
   "outputs": [],
   "source": [
    "params, grads = model:getParameters()"
   ]
  },
  {
   "cell_type": "code",
   "execution_count": null,
   "metadata": {
    "collapsed": false
   },
   "outputs": [],
   "source": [
    "grads:size()"
   ]
  },
  {
   "cell_type": "markdown",
   "metadata": {},
   "source": [
    "# Check Encapsulation"
   ]
  },
  {
   "cell_type": "code",
   "execution_count": 32,
   "metadata": {
    "collapsed": false
   },
   "outputs": [
    {
     "data": {
      "text/plain": [
       " 29973\n",
       " 46402\n",
       " 14022\n",
       "[torch.LongTensor of size 3]\n",
       "\n"
      ]
     },
     "execution_count": 32,
     "metadata": {},
     "output_type": "execute_result"
    }
   ],
   "source": [
    "indices[1]"
   ]
  },
  {
   "cell_type": "code",
   "execution_count": 33,
   "metadata": {
    "collapsed": false
   },
   "outputs": [],
   "source": [
    "indices[#indices] = nil"
   ]
  },
  {
   "cell_type": "code",
   "execution_count": 35,
   "metadata": {
    "collapsed": false
   },
   "outputs": [
    {
     "data": {
      "text/plain": [
       "16666\t\n"
      ]
     },
     "execution_count": 35,
     "metadata": {},
     "output_type": "execute_result"
    }
   ],
   "source": [
    "#indices"
   ]
  },
  {
   "cell_type": "code",
   "execution_count": 43,
   "metadata": {
    "collapsed": false
   },
   "outputs": [
    {
     "data": {
      "text/plain": [
       "16659\t\n"
      ]
     },
     "execution_count": 43,
     "metadata": {},
     "output_type": "execute_result"
    }
   ],
   "source": [
    "indices[#indices] = nil\n",
    "print(#indices)"
   ]
  },
  {
   "cell_type": "code",
   "execution_count": 20,
   "metadata": {
    "collapsed": true
   },
   "outputs": [],
   "source": [
    "opfunc = function(var)\n",
    "    print(var)\n",
    "end\n",
    "naiveopfunc = function()\n",
    "    print(var)\n",
    "end"
   ]
  },
  {
   "cell_type": "code",
   "execution_count": 23,
   "metadata": {
    "collapsed": false
   },
   "outputs": [
    {
     "data": {
      "text/plain": [
       "0\t\n",
       "nil\t\n",
       "1\t\n",
       "nil\t\n",
       "2\t\n",
       "nil\t\n",
       "3\t\n",
       "nil\t\n",
       "4\t\n",
       "nil\t\n",
       "5\t\n",
       "nil\t\n",
       "6\t\n",
       "nil\t\n",
       "7\t\n",
       "nil\t\n",
       "8\t\n",
       "nil\t\n",
       "9\t\n",
       "nil\t\n"
      ]
     },
     "execution_count": 23,
     "metadata": {},
     "output_type": "execute_result"
    }
   ],
   "source": [
    "i = 0\n",
    "while i < 10 do\n",
    "    local var = i\n",
    "    local zfunc = function()\n",
    "        opfunc(var)\n",
    "    end\n",
    "    zfunc(var)\n",
    "    naiveopfunc()\n",
    "    i = i + 1\n",
    "end\n"
   ]
  },
  {
   "cell_type": "markdown",
   "metadata": {},
   "source": [
    "# Inplace v. cloned when indexing"
   ]
  },
  {
   "cell_type": "code",
   "execution_count": 44,
   "metadata": {
    "collapsed": true
   },
   "outputs": [],
   "source": [
    "x = torch.randn(3, 3)"
   ]
  },
  {
   "cell_type": "code",
   "execution_count": 46,
   "metadata": {
    "collapsed": false
   },
   "outputs": [],
   "source": [
    "y = x:index(1, torch.Tensor(1):fill(2):long())"
   ]
  },
  {
   "cell_type": "code",
   "execution_count": 51,
   "metadata": {
    "collapsed": false
   },
   "outputs": [
    {
     "data": {
      "text/plain": [
       "-0.0577  0.4570 -0.6838\n",
       "-0.8594 -0.2602  1.4491\n",
       "-0.3079 -1.1362  1.1505\n",
       "[torch.DoubleTensor of size 3x3]\n",
       "\n"
      ]
     },
     "execution_count": 51,
     "metadata": {},
     "output_type": "execute_result"
    }
   ],
   "source": [
    "x"
   ]
  },
  {
   "cell_type": "code",
   "execution_count": 48,
   "metadata": {
    "collapsed": false
   },
   "outputs": [
    {
     "data": {
      "text/plain": [
       "-0.8594 -0.2602  1.4491\n",
       "[torch.DoubleTensor of size 1x3]\n",
       "\n"
      ]
     },
     "execution_count": 48,
     "metadata": {},
     "output_type": "execute_result"
    }
   ],
   "source": [
    "y"
   ]
  },
  {
   "cell_type": "code",
   "execution_count": 52,
   "metadata": {
    "collapsed": false
   },
   "outputs": [],
   "source": [
    "y[{1,1}] = 1"
   ]
  },
  {
   "cell_type": "code",
   "execution_count": 53,
   "metadata": {
    "collapsed": false
   },
   "outputs": [
    {
     "data": {
      "text/plain": [
       " 1.0000 -0.2602  1.4491\n",
       "[torch.DoubleTensor of size 1x3]\n",
       "\n"
      ]
     },
     "execution_count": 53,
     "metadata": {},
     "output_type": "execute_result"
    }
   ],
   "source": [
    "y"
   ]
  },
  {
   "cell_type": "code",
   "execution_count": 54,
   "metadata": {
    "collapsed": false
   },
   "outputs": [
    {
     "data": {
      "text/plain": [
       "-0.0577  0.4570 -0.6838\n",
       "-0.8594 -0.2602  1.4491\n",
       "-0.3079 -1.1362  1.1505\n",
       "[torch.DoubleTensor of size 3x3]\n",
       "\n"
      ]
     },
     "execution_count": 54,
     "metadata": {},
     "output_type": "execute_result"
    }
   ],
   "source": [
    "x"
   ]
  }
 ],
 "metadata": {
  "kernelspec": {
   "display_name": "iTorch",
   "language": "lua",
   "name": "itorch"
  },
  "language_info": {
   "name": "lua",
   "version": "5.1"
  }
 },
 "nbformat": 4,
 "nbformat_minor": 0
}
