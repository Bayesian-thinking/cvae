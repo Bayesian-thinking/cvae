{
 "cells": [
  {
   "cell_type": "markdown",
   "metadata": {},
   "source": [
    "# Check Gaussian Criterion"
   ]
  },
  {
   "cell_type": "code",
   "execution_count": 1,
   "metadata": {
    "collapsed": true
   },
   "outputs": [],
   "source": [
    "require 'criteria/KLDCriterion'\n",
    "require 'criteria/GaussianCriterion'\n",
    "require 'utils/Sampler'"
   ]
  },
  {
   "cell_type": "code",
   "execution_count": 2,
   "metadata": {
    "collapsed": true
   },
   "outputs": [],
   "source": [
    "kld = nn.KLDCriterion\n",
    "gauss = nn.GaussianCriterion\n",
    "sampler = nn.Sampler()"
   ]
  },
  {
   "cell_type": "code",
   "execution_count": 3,
   "metadata": {
    "collapsed": true
   },
   "outputs": [],
   "source": [
    "mu = torch.randn(3,4)\n",
    "lv = torch.randn(3,4):pow(2):log()\n",
    "pmu = torch.zeros(3,4)\n",
    "plv = torch.zeros(3,4)"
   ]
  },
  {
   "cell_type": "code",
   "execution_count": 4,
   "metadata": {
    "collapsed": false,
    "scrolled": true
   },
   "outputs": [
    {
     "data": {
      "text/plain": [
       "10.784102064081\t\n"
      ]
     },
     "execution_count": 4,
     "metadata": {},
     "output_type": "execute_result"
    }
   ],
   "source": [
    "kld:forward({pmu, plv}, {mu, lv})"
   ]
  },
  {
   "cell_type": "code",
   "execution_count": 35,
   "metadata": {
    "collapsed": false
   },
   "outputs": [
    {
     "data": {
      "text/plain": [
       "10.790013963543\t\n"
      ]
     },
     "execution_count": 35,
     "metadata": {},
     "output_type": "execute_result"
    }
   ],
   "source": [
    "-- D(posterior || prior) = E[log posterior - log prior]\n",
    "log_posterior = 0\n",
    "log_prior = 0\n",
    "N = 10\n",
    "for i = 1,N do\n",
    "    code = sampler({mu, lv})\n",
    "    log_posterior = log_posterior + gauss:forward({mu, lv}, code)/N\n",
    "    log_prior = log_prior + gauss:forward({pmu, plv}, code)/N\n",
    "end\n",
    "print(log_posterior - log_prior)"
   ]
  },
  {
   "cell_type": "code",
   "execution_count": 6,
   "metadata": {
    "collapsed": false
   },
   "outputs": [
    {
     "data": {
      "text/plain": [
       "-0.91893853320467\t\n"
      ]
     },
     "execution_count": 6,
     "metadata": {},
     "output_type": "execute_result"
    }
   ],
   "source": [
    "zero_mu = torch.zeros(1)\n",
    "zero_logv = torch.zeros(1)\n",
    "code = torch.zeros(1)\n",
    "print(gauss:forward({zero_mu, zero_logv}, code))"
   ]
  },
  {
   "cell_type": "markdown",
   "metadata": {},
   "source": [
    "# Check Gradient"
   ]
  },
  {
   "cell_type": "code",
   "execution_count": 7,
   "metadata": {
    "collapsed": false,
    "scrolled": true
   },
   "outputs": [],
   "source": [
    "mu = torch.randn(3,4)\n",
    "lv = torch.randn(3,4):pow(2):log()\n",
    "pmu = torch.zeros(3,4)\n",
    "plv = torch.zeros(3,4)\n",
    "code = sampler({mu, lv})\n",
    "mu = torch.randn(3,4)\n",
    "lv = torch.randn(3,4):pow(2):log()\n",
    "h = 1e-5\n",
    "dmu, dlv = unpack(gauss:backward({mu, lv}, code))"
   ]
  },
  {
   "cell_type": "code",
   "execution_count": 8,
   "metadata": {
    "collapsed": false
   },
   "outputs": [
    {
     "data": {
      "text/plain": [
       "-1.0892229340698e-09\t\n",
       "1.0344436418563e-09\t\n",
       "1.1293965762604e-11\t\n",
       "-4.725304592057e-10\t\n",
       "6.4559291246269e-10\t\n",
       "-1.1422819357065e-09\t\n",
       "1.1262029087078e-09\t\n",
       "-1.5933434571735e-09\t\n",
       "3.1108386977508e-09\t\n",
       "-1.7533992036078e-09\t\n",
       "5.0998139045078e-10\t\n",
       "-7.0252781370073e-10\t\n"
      ]
     },
     "execution_count": 8,
     "metadata": {},
     "output_type": "execute_result"
    }
   ],
   "source": [
    "for i = 1,mu:size(1) do\n",
    "    for j = 1,mu:size(2) do\n",
    "        mu[{i, j}] = mu[{i, j}] + h\n",
    "        fph = gauss:forward({mu, lv}, code)\n",
    "        mu[{i, j}] = mu[{i, j}] - h - h\n",
    "        fmp = gauss:forward({mu, lv}, code)\n",
    "        mu[{i, j}] = mu[{i, j}] + h\n",
    "        print((fph - fmp)/2/h - dmu[{i, j}])\n",
    "    end\n",
    "end"
   ]
  },
  {
   "cell_type": "code",
   "execution_count": 9,
   "metadata": {
    "collapsed": false
   },
   "outputs": [
    {
     "data": {
      "text/plain": [
       "-4.5784531721438e-10\t\n",
       "2.8162148169031e-09\t\n",
       "-7.4037234676361e-10\t\n",
       "-8.7991369746021e-10\t\n",
       "-6.3426597307625e-11\t\n",
       "8.5557852469442e-10\t\n",
       "-1.2577909269673e-09\t\n",
       "8.821449126728e-11\t\n",
       "-4.4890757777694e-11\t\n",
       "-1.2077188138448e-09\t\n",
       "9.8273034154772e-10\t\n",
       "-6.3421907725569e-09\t\n"
      ]
     },
     "execution_count": 9,
     "metadata": {},
     "output_type": "execute_result"
    }
   ],
   "source": [
    "for i = 1,lv:size(1) do\n",
    "    for j = 1,lv:size(2) do\n",
    "        lv[{i, j}] = lv[{i, j}] + h\n",
    "        fph = gauss:forward({mu, lv}, code)\n",
    "        lv[{i, j}] = lv[{i, j}] - h - h\n",
    "        fmp = gauss:forward({mu, lv}, code)\n",
    "        lv[{i, j}] = lv[{i, j}] + h\n",
    "        print((fph - fmp)/2/h - dlv[{i, j}])\n",
    "    end\n",
    "end"
   ]
  }
 ],
 "metadata": {
  "kernelspec": {
   "display_name": "iTorch",
   "language": "lua",
   "name": "itorch"
  },
  "language_info": {
   "name": "lua",
   "version": "20100"
  }
 },
 "nbformat": 4,
 "nbformat_minor": 0
}
