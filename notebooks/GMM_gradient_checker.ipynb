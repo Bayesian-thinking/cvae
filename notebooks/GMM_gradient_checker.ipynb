{
 "cells": [
  {
   "cell_type": "code",
   "execution_count": null,
   "metadata": {
    "collapsed": false
   },
   "outputs": [],
   "source": [
    "require 'nn'"
   ]
  },
  {
   "cell_type": "code",
   "execution_count": null,
   "metadata": {
    "collapsed": false
   },
   "outputs": [],
   "source": [
    "model = nn.Sequential()\n",
    "cat = nn.ConcatTable()\n",
    "inner1 = nn.Sequential()\n",
    "inner1:add(nn.Linear(1,2))\n",
    "inner2 = nn.Sequential()\n",
    "inner2:add(nn.Linear(1,5))\n",
    "inner2:add(nn.ReLU(true))\n",
    "inner2:add(nn.Linear(5,1))\n",
    "inner2:add(nn.SoftMax())\n",
    "cat:add(inner1)\n",
    "cat:add(inner2)\n",
    "model:add(cat)"
   ]
  },
  {
   "cell_type": "code",
   "execution_count": null,
   "metadata": {
    "collapsed": true
   },
   "outputs": [],
   "source": [
    "model = nn.Sequential()\n",
    "cat = nn.ConcatTable()\n",
    "cat:add(nn.Linear(1,3))\n",
    "cat:add(nn.Linear(1,4))\n",
    "model:add(cat)"
   ]
  },
  {
   "cell_type": "code",
   "execution_count": null,
   "metadata": {
    "collapsed": false,
    "scrolled": false
   },
   "outputs": [],
   "source": [
    "k = model:forward(torch.rand(10,1))"
   ]
  },
  {
   "cell_type": "code",
   "execution_count": null,
   "metadata": {
    "collapsed": false
   },
   "outputs": [],
   "source": [
    "k[2]"
   ]
  },
  {
   "cell_type": "code",
   "execution_count": null,
   "metadata": {
    "collapsed": true
   },
   "outputs": [],
   "source": [
    "x = torch.rand(10,1)\n",
    "v = torch.rand(10,3)"
   ]
  },
  {
   "cell_type": "code",
   "execution_count": null,
   "metadata": {
    "collapsed": false,
    "scrolled": true
   },
   "outputs": [],
   "source": [
    "x:cmul(v[{{},1}])"
   ]
  },
  {
   "cell_type": "code",
   "execution_count": null,
   "metadata": {
    "collapsed": false
   },
   "outputs": [],
   "source": [
    "torch.zeros(3,1)"
   ]
  },
  {
   "cell_type": "code",
   "execution_count": null,
   "metadata": {
    "collapsed": false,
    "scrolled": true
   },
   "outputs": [],
   "source": [
    "require 'criteria/GMMKLDCriterion'\n",
    "gkld = nn.GMMKLDCriterion\n",
    "pmu = torch.zeros(3)\n",
    "plogv = torch.zeros(3)\n",
    "mu = torch.randn(3)\n",
    "logv = torch.randn(3):pow(2):log()\n",
    "pi = torch.rand(3)\n",
    "input = {pmu, plogv, pi}\n",
    "target = {mu, logv}\n",
    "gkld:forward({pmu, plogv, pi}, {mu, logv})"
   ]
  },
  {
   "cell_type": "code",
   "execution_count": null,
   "metadata": {
    "collapsed": false
   },
   "outputs": [],
   "source": [
    "require 'criteria/GMMKLDCriterion'\n",
    "require 'criteria/KLDCriterion'\n",
    "gkld = nn.GMMKLDCriterion()\n",
    "kld = nn.KLDCriterion()\n",
    "pmu = torch.zeros(3,2)\n",
    "plogv = torch.zeros(3,2)\n",
    "pi = torch.ones(3,1)\n",
    "\n",
    "mu = torch.randn(3,2)\n",
    "logv = torch.randn(3,2):pow(2):log()\n",
    "input = {pmu, plogv, pi}\n",
    "target = {mu, logv}\n",
    "print(gkld:forward({pmu, plogv, pi}, {mu, logv}))\n",
    "print(kld:forward({pmu, plogv}, {mu, logv}))"
   ]
  },
  {
   "cell_type": "code",
   "execution_count": 26,
   "metadata": {
    "collapsed": false
   },
   "outputs": [
    {
     "data": {
      "text/plain": [
       "1.7855699232485\t\n",
       "1.0924227426886\t\n"
      ]
     },
     "execution_count": 26,
     "metadata": {},
     "output_type": "execute_result"
    }
   ],
   "source": [
    "require 'criteria/GMMKLDCriterion'\n",
    "require 'criteria/KLDCriterion'\n",
    "gkld = nn.GMMKLDCriterion()\n",
    "kld = nn.KLDCriterion()\n",
    "\n",
    "N = 1\n",
    "D = 3\n",
    "K = 2\n",
    "\n",
    "pmu1 = torch.zeros(N,D)\n",
    "pmu2 = torch.ones(N,D)*40\n",
    "\n",
    "plogv1 = torch.zeros(N,D)\n",
    "plogv2 = torch.ones(N,D)\n",
    "\n",
    "pi = torch.ones(N,K):div(K)\n",
    "\n",
    "mu = torch.ones(N,D)*.1\n",
    "logv = torch.ones(N,D)\n",
    "\n",
    "input = {pmu, plogv, pi}\n",
    "target = {mu, logv}\n",
    "print(gkld:forward({pmu1, pmu2, plogv1, plogv2, pi}, {mu, logv}))\n",
    "print(kld:forward({pmu1, plogv1},{mu, logv}))"
   ]
  },
  {
   "cell_type": "code",
   "execution_count": null,
   "metadata": {
    "collapsed": false
   },
   "outputs": [],
   "source": [
    "-- compare with direct KLD:\n",
    "print(kld:forward({pmu1, plogv1}, {mu, logv}))\n",
    "print(kld:forward({pmu2, plogv2}, {mu, logv}))\n",
    "print(kld:forward({pmu3, plogv3}, {mu, logv}))"
   ]
  },
  {
   "cell_type": "markdown",
   "metadata": {},
   "source": [
    "# Gradient Check"
   ]
  },
  {
   "cell_type": "code",
   "execution_count": 12,
   "metadata": {
    "collapsed": false
   },
   "outputs": [],
   "source": [
    "require 'criteria/GMMKLDCriterion'\n",
    "require 'criteria/KLDCriterion'\n",
    "gkld = nn.GMMKLDCriterion()\n",
    "kld = nn.KLDCriterion()\n",
    "\n",
    "N = 5\n",
    "D = 3\n",
    "K = 1\n",
    "\n",
    "pmu1 = torch.randn(N,D)\n",
    "pi = torch.Tensor({{1}}):expand(N,1)\n",
    "plogv1 = torch.randn(N,D)\n",
    "\n",
    "mu = torch.randn(N,D)\n",
    "logv = torch.randn(N,D)\n",
    "\n",
    "h = 1e-4"
   ]
  },
  {
   "cell_type": "code",
   "execution_count": 13,
   "metadata": {
    "collapsed": false,
    "scrolled": true
   },
   "outputs": [],
   "source": [
    "gkld:forward({pmu1, plogv1, pi}, {mu, logv})\n",
    "dpmu1, dplogv1, dpi, dmu, dlogv = unpack(gkld:backward({pmu1, plogv1, pi}, {mu, logv}))"
   ]
  },
  {
   "cell_type": "code",
   "execution_count": 21,
   "metadata": {
    "collapsed": false
   },
   "outputs": [
    {
     "data": {
      "text/plain": [
       "  0.4285   0.3246  -5.9314\n",
       "  0.0432   0.3800   0.1303\n",
       " -1.3696  -6.0556   0.2066\n",
       " -2.2196   0.3846  -0.1272\n",
       " -4.6368 -17.9626   0.2407\n",
       "[torch.DoubleTensor of size 5x3]\n",
       "\n"
      ]
     },
     "execution_count": 21,
     "metadata": {},
     "output_type": "execute_result"
    }
   ],
   "source": [
    "b"
   ]
  },
  {
   "cell_type": "code",
   "execution_count": 14,
   "metadata": {
    "collapsed": true
   },
   "outputs": [],
   "source": [
    "a, b, c, d = unpack(kld:backward({pmu1, plogv1}, {mu, logv}))"
   ]
  },
  {
   "cell_type": "code",
   "execution_count": 1,
   "metadata": {
    "collapsed": false
   },
   "outputs": [],
   "source": [
    "require 'criteria/GMMKLDCriterion'\n",
    "require 'criteria/KLDCriterion'\n",
    "gkld = nn.GMMKLDCriterion()\n",
    "kld = nn.KLDCriterion()\n",
    "\n",
    "N = 5\n",
    "D = 3\n",
    "K = 3\n",
    "\n",
    "pmu1 = torch.zeros(N,D)\n",
    "pmu2 = torch.randn(N,D)\n",
    "pmu3 = torch.randn(N,D)\n",
    "pi = torch.Tensor({{1,2,3}}):expand(5,3)/6\n",
    "plogv1 = torch.zeros(N,D)\n",
    "plogv2 = torch.randn(N,D):pow(2):log()\n",
    "plogv3 = torch.randn(N,D):pow(2):log()\n",
    "\n",
    "mu = torch.zeros(N,D)\n",
    "logv = torch.zeros(N,D)\n",
    "\n",
    "h = 1e-4"
   ]
  },
  {
   "cell_type": "code",
   "execution_count": null,
   "metadata": {
    "collapsed": true
   },
   "outputs": [],
   "source": [
    "gkld:forward({pmu1, pmu2, pmu3, plogv1, plogv2, plogv3, pi}, {mu, logv})\n",
    "dpmu1, dpmu2, dpmu3, dplogv1, dplogv2, dplogv3, dpi, dmu, dlogv = unpack(gkld:backward({pmu1, pmu2, pmu3, plogv1, plogv2, plogv3, pi}, {mu, logv}))"
   ]
  },
  {
   "cell_type": "code",
   "execution_count": null,
   "metadata": {
    "collapsed": false
   },
   "outputs": [],
   "source": [
    "dmu"
   ]
  },
  {
   "cell_type": "code",
   "execution_count": null,
   "metadata": {
    "collapsed": false,
    "scrolled": true
   },
   "outputs": [],
   "source": [
    "x = mu\n",
    "y = dmu\n",
    "print(\"Error:\")\n",
    "for i=1,x:size(1) do\n",
    "    for j=1,x:size(2) do\n",
    "        x[{i,j}] = x[{i,j}] + h\n",
    "        fph = gkld:forward({pmu1, pmu2, pmu3, plogv1, plogv2, plogv3, pi}, {mu, logv})\n",
    "        x[{i,j}] = x[{i,j}] - h - h\n",
    "        fmh = gkld:forward({pmu1, pmu2, pmu3, plogv1, plogv2, plogv3, pi}, {mu, logv})\n",
    "        x[{i,j}] = x[{i,j}] + h\n",
    "        print((fph - fmh)/2/h - y[{i,j}])\n",
    "    end\n",
    "end"
   ]
  },
  {
   "cell_type": "markdown",
   "metadata": {},
   "source": [
    "# Gradient"
   ]
  },
  {
   "cell_type": "code",
   "execution_count": null,
   "metadata": {
    "collapsed": false
   },
   "outputs": [],
   "source": [
    "dpi = unpack(gkld:backward({pmu1, pmu2, pmu3, plogv1, plogv2, plogv3, pi}, {mu, logv}))\n",
    "print(dpi)"
   ]
  },
  {
   "cell_type": "markdown",
   "metadata": {},
   "source": [
    "# Math"
   ]
  },
  {
   "cell_type": "code",
   "execution_count": 22,
   "metadata": {
    "collapsed": false
   },
   "outputs": [
    {
     "data": {
      "text/plain": [
       "{\n",
       "  VolumetricMaxUnpooling : table: 0x41ce8e50\n",
       "  ConcatTable : table: 0x41d16708\n",
       "  SpatialAveragePooling : table: 0x41bdb718\n",
       "  BCECriterion : table: 0x40933360\n",
       "  Reshape : table: 0x41cebc90\n",
       "  Jacobian : \n",
       "    {\n",
       "      forward : function: 0x401f9240\n",
       "      testAllUpdate : function: 0x401eff80\n",
       "      testDiagHessianInput : function: 0x41308cf8\n",
       "      testDiagHessianWeight : function: 0x41308d18\n",
       "      testDiagHessianBias : function: 0x41308d38\n",
       "      testDiagHessian : function: 0x41e349d0\n",
       "      testJacobian : function: 0x401f0048\n",
       "      testIO : function: 0x401eff60\n",
       "      testJacobianUpdateParameters : function: 0x41e349b0\n",
       "      backwardDiagHessian : function: 0x41308d60\n",
       "      testJacobianParameters : function: 0x4092d8f0\n",
       "      backwardUpdate : function: 0x401f9220\n",
       "      forwardUpdate : function: 0x401f0028\n",
       "      backward : function: 0x401f9200\n",
       "      linearModuleDiagHessian : function: 0x41308d80\n",
       "    }\n",
       "  SparseLinear : table: 0x41ce9400\n",
       "  SpatialCrossMapLRN : table: 0x401f1310\n",
       "  CAddTable : table: 0x41e3d838\n",
       "  TemporalConvolution : table: 0x41ce8970\n",
       "  PairwiseDistance : table: 0x41e4d138\n",
       "  WeightedMSECriterion : table: 0x41306850\n",
       "  SmoothL1Criterion : table: 0x40923b40\n",
       "  SpatialLPPooling : table: 0x41d8aa00\n",
       "  TanhShrink : table: 0x40935860\n",
       "  MixtureTable : table: 0x413098f0\n",
       "  MSECriterion : table: 0x40933b28\n",
       "  LogSoftMax : table: 0x4092da40\n",
       "  Identity : table: 0x40cf4e88\n",
       "  Exp : table: 0x40927b30\n",
       "  Add : table: 0x41e36320\n",
       "  SpatialConvolutionLocal : table: 0x40cf06d0\n",
       "  BatchNormalization : table: 0x401f7da0\n",
       "  AbsCriterion : table: 0x402097a8\n",
       "  MultiCriterion : table: 0x40205350\n",
       "  Max : table: 0x40200950\n",
       "  MulConstant : table: 0x41e34368\n",
       "  NarrowTable : table: 0x401ec140\n",
       "  View : table: 0x401eba20\n",
       "  VolumetricConvolution : table: 0x40942b38\n",
       "  SpatialSubSampling : table: 0x41d2ab68\n",
       "  HardTanh : table: 0x4092a1b8\n",
       "  DistKLDivCriterion : table: 0x40923d98\n",
       "  SplitTable : table: 0x41cd6020\n",
       "  DotProduct : table: 0x41e4e748\n",
       "  HingeEmbeddingCriterion : table: 0x401ed980\n",
       "  SpatialBatchNormalization : table: 0x41d7cb00\n",
       "  DepthConcat : table: 0x41cdf778\n",
       "  CMulTable : table: 0x41e410f8\n",
       "  SpatialAdaptiveMaxPooling : table: 0x4092f350\n",
       "  Parallel : table: 0x41cdac20\n",
       "  SoftShrink : table: 0x4093ccd8\n",
       "  SpatialSubtractiveNormalization : table: 0x41dd2a78\n",
       "  Log : table: 0x40928eb0\n",
       "  SpatialDropout : table: 0x41e3b4f8\n",
       "  LeakyReLU : table: 0x40942ae8\n",
       "  VolumetricMaxPooling : table: 0x41663678\n",
       "  hessian : \n",
       "    {\n",
       "      enable : function: 0x41cd69e8\n",
       "    }\n",
       "  Linear : table: 0x41ce22d0\n",
       "  Euclidean : table: 0x41e43390\n",
       "  CriterionTable : table: 0x40c52160\n",
       "  SpatialMaxPooling : table: 0x412fcf28\n",
       "  MultiMarginCriterion : table: 0x409373a8\n",
       "  ELU : table: 0x40ce5b90\n",
       "  CSubTable : table: 0x41e42890\n",
       "  MultiLabelMarginCriterion : table: 0x41e3e840\n",
       " "
      ]
     },
     "execution_count": 22,
     "metadata": {},
     "output_type": "execute_result"
    },
    {
     "data": {
      "text/plain": [
       " Copy : table: 0x401fc1f0\n",
       "  L1HingeEmbeddingCriterion : table: 0x40925448\n",
       "  VolumetricAveragePooling : table: 0x40849f60\n",
       "  StochasticGradient : table: 0x40ceaba8\n",
       "  SpatialContrastiveNormalization : table: 0x41bc9d70\n",
       "  Bilinear : table: 0x41ce5d48\n",
       "  CosineEmbeddingCriterion : table: 0x41e477f0\n",
       "  Padding : table: 0x401f92f0\n",
       "  Container : table: 0x41cd3d48\n",
       "  MarginRankingCriterion : table: 0x401f49e8\n",
       "  Module : table: 0x41ccebf8\n",
       "  VolumetricFullConvolution : table: 0x416627c8\n",
       "  Concat : table: 0x41cd77e0\n",
       "  CrossEntropyCriterion : table: 0x41dcdb18\n",
       "  LookupTable : table: 0x40ce7728\n",
       "  MarginCriterion : table: 0x41e34b90\n",
       "  HardShrink : table: 0x4093b7a8\n",
       "  Abs : table: 0x40936cb8\n",
       "  SparseJacobian : \n",
       "    {\n",
       "      forward : function: 0x41bc6738\n",
       "      testJacobian : function: 0x41bd1db8\n",
       "      testIO : function: 0x41bc6778\n",
       "      testAllUpdate : function: 0x41bd1d30\n",
       "      testJacobianParameters : function: 0x41dcfe68\n",
       "      testJacobianUpdateParameters : function: 0x41bc6758\n",
       "      forwardUpdate : function: 0x41bd1d98\n",
       "      backward : function: 0x41dcfe48\n",
       "      backwardUpdate : function: 0x41bc6718\n",
       "    }\n",
       "  SoftMin : table: 0x40930e20\n",
       "  WeightedEuclidean : table: 0x41e47010\n",
       "  Contiguous : table: 0x401ee170\n",
       "  L1Cost : table: 0x40c405f0\n",
       "  PReLU : table: 0x409412c8\n",
       "  utils : \n",
       "    {\n",
       "      recursiveType : function: 0x41668b30\n",
       "      recursiveResizeAs : function: 0x41668ba8\n",
       "      recursiveAdd : function: 0x41668b70\n",
       "      addSingletonDimension : function: 0x41665ed8\n",
       "      recursiveFill : function: 0x41665cb0\n",
       "    }\n",
       "  JoinTable : table: 0x41d255f0\n",
       "  ClassNLLCriterion : table: 0x41d0dc40\n",
       "  CMul : table: 0x40206df0\n",
       "  CosineDistance : table: 0x41e4e898\n",
       "  Index : table: 0x401f1f98\n",
       "  Mean : table: 0x40202950\n",
       "  Dropout : table: 0x41e38ff0\n",
       "  SoftPlus : table: 0x40932070\n",
       "  SpatialDivisiveNormalization : table: 0x41bdaf98\n",
       "  L1Penalty : table: 0x41e401d8\n",
       "  Power : table: 0x409381b8\n",
       "  Sqrt : table: 0x4093a618\n",
       "  Sequential : table: 0x41cddfb0\n",
       "  Square : table: 0x409393b0\n",
       "  AddConstant : table: 0x41e38760\n",
       "  GMMKLDCriterion : table: 0x41141ec8\n",
       "  test : function: 0x41144818\n",
       "  MM : table: 0x41ccd3b8\n",
       "  SoftMax : table: 0x4092faa0\n",
       "  ParallelCriterion : table: 0x412fb480\n",
       "  Cosine : table: 0x40925da0\n",
       "  Clamp : table: 0x4092b410\n",
       "  SpatialConvolutionMM : table: 0x40cf7bf8\n",
       "  Sigmoid : table: 0x4092ea38\n",
       "  LogSigmoid : table: 0x4092c548\n",
       "  TemporalMaxPooling : table: 0x41d833a8\n",
       "  Threshold : table: 0x4093db28\n",
       "  Sum : table: 0x40205690\n",
       "  SoftSign : table: 0x40933508\n",
       "  ParallelTable : table: 0x401f6330\n",
       "  Min : table: 0x401fe450\n",
       "  KLDCriterion : table: 0x40af9350\n",
       "  Replicate : table: 0x401f3ae0\n",
       "  Tanh : table: 0x409344b0\n",
       "  CDivTable : table: 0x41e3f4b8\n",
       "  Mul : table: 0x402098e0\n",
       "  Select : table: 0x401ef570\n",
       "  ReLU : table: 0x4093f5c0\n",
       "  SpatialFullConvolutionMap : table: 0x40cf6238\n",
       "  GradientReversal : table: 0x401fb648\n",
       "  SpatialConvolution : table: 0x40cea750\n",
       "  Criterion : table: 0x41e4bab0\n",
       "  SpatialConvolutionMap : table: 0x40cfa878\n",
       "  tables : \n",
       "    {\n",
       "      full : function: 0x40cfa8f0\n",
       "      oneToOne : function: 0x40cfd2e8\n",
       "      random : function: 0x40cfd6f0\n",
       "    }\n",
       "  SpatialMaxUnpooling : table: 0x41dc9690\n",
       "  TemporalSubSampling : table: 0x412f7f00\n",
       "  Transpose : table: 0x401f4d80\n",
       "  SpatialFullConvolution : table: 0x40cf1f68\n",
       "  SpatialUpSamplingNearest : table: 0x4093ae30\n",
       "  RReLU : table: 0x40ce3a70\n",
       "  SpatialZeroPadding : table: 0x41e3ea50\n",
       "  FlattenTable : table: 0x41cd8228\n",
       "  Narrow : table: 0x401f0338\n",
       "  Normalize : table: 0x41e53598\n",
       "  SpatialSoftMax : table: 0x40ce2b88\n",
       "  SelectTable : table: 0x4092dea8\n",
       "  SpatialFractionalMaxPooling : table: 0x40850558\n",
       "}\n"
      ]
     },
     "execution_count": 22,
     "metadata": {},
     "output_type": "execute_result"
    }
   ],
   "source": [
    "require 'nn'"
   ]
  },
  {
   "cell_type": "code",
   "execution_count": 23,
   "metadata": {
    "collapsed": true
   },
   "outputs": [],
   "source": [
    "model = nn.Sequential()\n",
    "model:add(nn.Linear(2,3))\n",
    "model:add(nn.ReLU(true))\n",
    "model:add(nn.Linear(3,4))\n",
    "model:add(nn.SoftMax())\n",
    "model:add(nn.Linear(4,1))"
   ]
  },
  {
   "cell_type": "code",
   "execution_count": 28,
   "metadata": {
    "collapsed": true
   },
   "outputs": [],
   "source": [
    "x = torch.randn(10,2)\n",
    "out = model:forward(x)"
   ]
  },
  {
   "cell_type": "code",
   "execution_count": 30,
   "metadata": {
    "collapsed": false
   },
   "outputs": [],
   "source": [
    "dout = torch.randn(10, 1)"
   ]
  },
  {
   "cell_type": "code",
   "execution_count": 31,
   "metadata": {
    "collapsed": false,
    "scrolled": true
   },
   "outputs": [
    {
     "data": {
      "text/plain": [
       "0.01 *\n",
       " -0.0470 -0.0789\n",
       " -0.1024  1.5457\n",
       "  3.3797  5.5302\n",
       " -0.0277  0.4179\n",
       " -0.0052  0.0786\n",
       " -2.3183 -3.8346\n",
       "  0.0474 -0.7152\n",
       "  0.1209 -1.8247\n",
       "  0.4824  0.7931\n",
       " -0.2984 -0.5001\n",
       "[torch.DoubleTensor of size 10x2]\n",
       "\n"
      ]
     },
     "execution_count": 31,
     "metadata": {},
     "output_type": "execute_result"
    }
   ],
   "source": [
    "model:backward(x, dout)"
   ]
  },
  {
   "cell_type": "markdown",
   "metadata": {},
   "source": [
    "# GMM Sampler"
   ]
  },
  {
   "cell_type": "code",
   "execution_count": 31,
   "metadata": {
    "collapsed": false
   },
   "outputs": [
    {
     "data": {
      "text/plain": [
       " 0.1667  0.3333  0.5000\n",
       " 0.1667  0.3333  0.5000\n",
       " 0.1667  0.3333  0.5000\n",
       " 0.1667  0.3333  0.5000\n",
       " 0.1667  0.3333  0.5000\n",
       "[torch.DoubleTensor of size 5x3]\n",
       "\n"
      ]
     },
     "execution_count": 31,
     "metadata": {},
     "output_type": "execute_result"
    }
   ],
   "source": [
    "pi"
   ]
  },
  {
   "cell_type": "code",
   "execution_count": 49,
   "metadata": {
    "collapsed": false
   },
   "outputs": [
    {
     "data": {
      "text/plain": [
       " 3\n",
       " 1\n",
       " 1\n",
       " 3\n",
       " 3\n",
       "[torch.LongTensor of size 5x1]\n",
       "\n"
      ]
     },
     "execution_count": 49,
     "metadata": {},
     "output_type": "execute_result"
    }
   ],
   "source": [
    "a = torch.multinomial(pi, 1)\n",
    "print(a)"
   ]
  },
  {
   "cell_type": "code",
   "execution_count": 3,
   "metadata": {
    "collapsed": false
   },
   "outputs": [
    {
     "data": {
      "text/plain": [
       " 2\n",
       "[torch.LongTensor of size 1]\n",
       "\n"
      ]
     },
     "execution_count": 3,
     "metadata": {},
     "output_type": "execute_result"
    }
   ],
   "source": [
    "a"
   ]
  }
 ],
 "metadata": {
  "kernelspec": {
   "display_name": "iTorch",
   "language": "lua",
   "name": "itorch"
  },
  "language_info": {
   "name": "lua",
   "version": "20100"
  }
 },
 "nbformat": 4,
 "nbformat_minor": 0
}
