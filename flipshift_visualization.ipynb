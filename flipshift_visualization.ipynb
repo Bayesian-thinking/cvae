{
 "cells": [
  {
   "cell_type": "markdown",
   "metadata": {},
   "source": [
    "# Setup"
   ]
  },
  {
   "cell_type": "code",
   "execution_count": 1,
   "metadata": {
    "collapsed": false
   },
   "outputs": [],
   "source": [
    "require 'torch'\n",
    "require 'nn'\n",
    "require 'nngraph'\n",
    "require 'cunn'\n",
    "require 'cutorch'\n",
    "nngraph.setDebug(false)\n",
    "-- load custom modules\n",
    "require 'load'\n",
    "require 'Sampler'\n",
    "sampler = nn.Sampler():cuda()"
   ]
  },
  {
   "cell_type": "code",
   "execution_count": 2,
   "metadata": {
    "collapsed": true
   },
   "outputs": [],
   "source": [
    "-- get data\n",
    "data = loadflipshift()\n",
    "-- modify data\n",
    "data.train = -data.train + 1\n",
    "data.train = data.train:cuda()\n",
    "train = data.train\n",
    "masked_train = train:clone()\n",
    "masked_train[{{},{1,2048}}] = 0"
   ]
  },
  {
   "cell_type": "code",
   "execution_count": 3,
   "metadata": {
    "collapsed": false
   },
   "outputs": [],
   "source": [
    "-- load saved cvae model\n",
    "saved = torch.load('save/flipshift_CVAE_z1.t7')\n",
    "model = saved.model\n",
    "prior = saved.prior\n",
    "encoder = saved.encoder\n",
    "decoder = saved.decoder\n",
    "-- load saved mlp model\n",
    "saved = torch.load('save/flipshift_MLP.t7')\n",
    "mlp = saved.model"
   ]
  },
  {
   "cell_type": "markdown",
   "metadata": {},
   "source": [
    "# Image Reconstruction"
   ]
  },
  {
   "cell_type": "code",
   "execution_count": 4,
   "metadata": {
    "collapsed": false
   },
   "outputs": [
    {
     "data": {
      "image/png": "[encoded data removed]",
      "text/plain": [
       "Console does not support images"
      ]
     },
     "metadata": {
      "image/png": {
       "height": 132,
       "width": 396
      }
     },
     "output_type": "display_data"
    },
    {
     "data": {
      "image/png": "[encoded data removed]",
      "text/plain": [
       "Console does not support images"
      ]
     },
     "metadata": {
      "image/png": {
       "height": 132,
       "width": 396
      }
     },
     "output_type": "display_data"
    },
    {
     "data": {
      "image/png": "[encoded data removed]",
      "text/plain": [
       "Console does not support images"
      ]
     },
     "metadata": {
      "image/png": {
       "height": 132,
       "width": 396
      }
     },
     "output_type": "display_data"
    }
   ],
   "source": [
    "-- select images\n",
    "N = 10\n",
    "indices = torch.randperm(train:size(1)):long():split(N)\n",
    "v = indices[1]\n",
    "x_input = masked_train:index(1, v)\n",
    "y_input = train:index(1, v)\n",
    "-- cvae\n",
    "pmu, plogv, mu, logv, recon = unpack(model:forward({x_input, y_input}))\n",
    "-- original image\n",
    "itorch.image(y_input:reshape(N, 1, 64, 64))\n",
    "-- masked image\n",
    "itorch.image(x_input:reshape(N, 1, 64, 64))\n",
    "-- reconstructed image\n",
    "itorch.image(recon:reshape(N, 1, 64, 64))"
   ]
  },
  {
   "cell_type": "markdown",
   "metadata": {},
   "source": [
    "# Conditional Sampling"
   ]
  },
  {
   "cell_type": "code",
   "execution_count": 5,
   "metadata": {
    "collapsed": false
   },
   "outputs": [
    {
     "data": {
      "image/png": "[encoded data removed]",
      "text/plain": [
       "Console does not support images"
      ]
     },
     "metadata": {
      "image/png": {
       "height": 396,
       "width": 396
      }
     },
     "output_type": "display_data"
    },
    {
     "data": {
      "image/png": "[encoded data removed]",
      "text/plain": [
       "Console does not support images"
      ]
     },
     "metadata": {
      "image/png": {
       "height": 396,
       "width": 396
      }
     },
     "output_type": "display_data"
    },
    {
     "data": {
      "image/png": "[encoded data removed]",
      "text/plain": [
       "Console does not support images"
      ]
     },
     "metadata": {
      "image/png": {
       "height": 396,
       "width": 396
      }
     },
     "output_type": "display_data"
    },
    {
     "data": {
      "image/png": "[encoded data removed]",
      "text/plain": [
       "Console does not support images"
      ]
     },
     "metadata": {
      "image/png": {
       "height": 396,
       "width": 396
      }
     },
     "output_type": "display_data"
    }
   ],
   "source": [
    "-- select images\n",
    "N = 36\n",
    "indices = torch.randperm(train:size(1)):long():split(N)\n",
    "v = indices[1]\n",
    "x_input = masked_train:index(1, v)\n",
    "y_input = train:index(1, v)\n",
    "-- original image\n",
    "itorch.image(y_input:reshape(N, 1, 64, 64))\n",
    "-- masked image\n",
    "itorch.image(x_input:reshape(N, 1, 64, 64))\n",
    "-- cvae\n",
    "pmu, plogv = unpack(prior:forward(x_input))\n",
    "code = sampler:forward({pmu, plogv})\n",
    "recon = decoder:forward({x_input, code})\n",
    "itorch.image(recon:reshape(N, 1, 64, 64))\n",
    "-- mlp\n",
    "mlp_recon = mlp:forward(x_input)\n",
    "itorch.image(mlp_recon:reshape(N, 1, 64, 64))"
   ]
  }
 ],
 "metadata": {
  "kernelspec": {
   "display_name": "iTorch",
   "language": "lua",
   "name": "itorch"
  },
  "language_info": {
   "name": "lua",
   "version": "20100"
  }
 },
 "nbformat": 4,
 "nbformat_minor": 0
}
